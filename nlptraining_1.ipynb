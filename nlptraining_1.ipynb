{
  "nbformat": 4,
  "nbformat_minor": 0,
  "metadata": {
    "colab": {
      "name": "nlptraining_1.ipynb",
      "provenance": [],
      "collapsed_sections": []
    },
    "kernelspec": {
      "name": "python3",
      "display_name": "Python 3"
    }
  },
  "cells": [
    {
      "cell_type": "code",
      "metadata": {
        "id": "YpwPGtfLgxr3",
        "colab_type": "code",
        "colab": {
          "base_uri": "https://localhost:8080/",
          "height": 34
        },
        "outputId": "cba31f4a-1f73-4799-e1ae-e5274021d6f9"
      },
      "source": [
        "s = \"stressed\"\n",
        "s = s[::-1]\n",
        "s"
      ],
      "execution_count": 1,
      "outputs": [
        {
          "output_type": "execute_result",
          "data": {
            "text/plain": [
              "'desserts'"
            ]
          },
          "metadata": {
            "tags": []
          },
          "execution_count": 1
        }
      ]
    },
    {
      "cell_type": "code",
      "metadata": {
        "id": "HqozOv_xg3l2",
        "colab_type": "code",
        "colab": {
          "base_uri": "https://localhost:8080/",
          "height": 34
        },
        "outputId": "58d90ae1-5c6d-4ba5-9e23-879b8f880886"
      },
      "source": [
        "s = \"パトカータクシー\"\n",
        "s0 = s[0::2]\n",
        "s1 = s[1::2]\n",
        "s1"
      ],
      "execution_count": 2,
      "outputs": [
        {
          "output_type": "execute_result",
          "data": {
            "text/plain": [
              "'トークー'"
            ]
          },
          "metadata": {
            "tags": []
          },
          "execution_count": 2
        }
      ]
    },
    {
      "cell_type": "code",
      "metadata": {
        "id": "PsXqTvkDg3sF",
        "colab_type": "code",
        "colab": {
          "base_uri": "https://localhost:8080/",
          "height": 34
        },
        "outputId": "4a06d00f-5ff4-4993-ab82-e0bd1283b70b"
      },
      "source": [
        "ans = \"\"\n",
        "cnt = 0\n",
        "s0 = \"パトカー\"\n",
        "s1 = \"タクシー\"\n",
        "while cnt < len(s0):\n",
        "  ans += s0[cnt]\n",
        "  ans += s1[cnt]\n",
        "  cnt += 1\n",
        "ans"
      ],
      "execution_count": 5,
      "outputs": [
        {
          "output_type": "execute_result",
          "data": {
            "text/plain": [
              "'パタトクカシーー'"
            ]
          },
          "metadata": {
            "tags": []
          },
          "execution_count": 5
        }
      ]
    },
    {
      "cell_type": "code",
      "metadata": {
        "id": "WQvaySzrg3vO",
        "colab_type": "code",
        "colab": {
          "base_uri": "https://localhost:8080/",
          "height": 51
        },
        "outputId": "b189fc75-7cc6-4c08-b863-b3ed505a4d6b"
      },
      "source": [
        "s = \"Now I need a drink, alcoholic of course, after the heavy lectures involving quantum mechanics.\"\n",
        "sentence = s.split()\n",
        "print(sentence)\n",
        "sentence.sort(key = len)\n",
        "\n",
        "print(sentence)"
      ],
      "execution_count": 14,
      "outputs": [
        {
          "output_type": "stream",
          "text": [
            "['Now', 'I', 'need', 'a', 'drink,', 'alcoholic', 'of', 'course,', 'after', 'the', 'heavy', 'lectures', 'involving', 'quantum', 'mechanics.']\n",
            "['I', 'a', 'of', 'Now', 'the', 'need', 'after', 'heavy', 'drink,', 'course,', 'quantum', 'lectures', 'alcoholic', 'involving', 'mechanics.']\n"
          ],
          "name": "stdout"
        }
      ]
    },
    {
      "cell_type": "code",
      "metadata": {
        "id": "u0AiCcfqg3xq",
        "colab_type": "code",
        "colab": {
          "base_uri": "https://localhost:8080/",
          "height": 34
        },
        "outputId": "314e626c-1781-43cb-c4a6-b70c62769075"
      },
      "source": [
        "s = \"Hi He Lied Because Boron Could Not Oxidize Fluorine. New Nations Might Also Sign Peace Security Clause. Arthur King Can.\"\n",
        "sentence = s.split()\n",
        "#1, 5, 6, 7, 8, 9, 15, 16, 19\n",
        "key = [0] * len(sentence)\n",
        "value = [0] * len(sentence)\n",
        "for i in range(len(sentence)):\n",
        "  if i == 1 - 1 or i == 5 - 1 or i == 6 - 1 or i == 7 - 1 or i == 8 - 1 or i == 9 - 1 or i == 15 - 1 or i == 16 - 1 or i == 19 - 1:\n",
        "    key[i] = sentence[i][0]\n",
        "    value[i] = 1\n",
        "  else:\n",
        "    key[i] = sentence[i][1]\n",
        "    value[i] = 2\n",
        "d = dict(zip(key, value))\n",
        "print(d)"
      ],
      "execution_count": 17,
      "outputs": [
        {
          "output_type": "stream",
          "text": [
            "{'H': 1, 'e': 2, 'i': 2, 'B': 1, 'C': 1, 'N': 1, 'O': 1, 'F': 1, 'a': 2, 'l': 2, 'P': 1, 'S': 1, 'r': 2, 'K': 1}\n"
          ],
          "name": "stdout"
        }
      ]
    },
    {
      "cell_type": "code",
      "metadata": {
        "id": "15cxhHt0g30K",
        "colab_type": "code",
        "colab": {
          "base_uri": "https://localhost:8080/",
          "height": 85
        },
        "outputId": "8e15a157-4f23-4acc-b49e-791736f1a555"
      },
      "source": [
        "def make_ngram(s, n):\n",
        "  return [s[idx:idx + n] for idx in range(len(s) - n + 1)]\n",
        "ex = \"I am an NLPer\"\n",
        "print(make_ngram(ex, 1))\n",
        "print(make_ngram(ex, 2))\n",
        "\n",
        "words = ex.split(' ')\n",
        "print(make_ngram(words, 1))\n",
        "print(make_ngram(words, 2))\n"
      ],
      "execution_count": 22,
      "outputs": [
        {
          "output_type": "stream",
          "text": [
            "['I', ' ', 'a', 'm', ' ', 'a', 'n', ' ', 'N', 'L', 'P', 'e', 'r']\n",
            "['I ', ' a', 'am', 'm ', ' a', 'an', 'n ', ' N', 'NL', 'LP', 'Pe', 'er']\n",
            "[['I'], ['am'], ['an'], ['NLPer']]\n",
            "[['I', 'am'], ['am', 'an'], ['an', 'NLPer']]\n"
          ],
          "name": "stdout"
        }
      ]
    },
    {
      "cell_type": "code",
      "metadata": {
        "id": "XCt8i_MYg32q",
        "colab_type": "code",
        "colab": {
          "base_uri": "https://localhost:8080/",
          "height": 119
        },
        "outputId": "f1bfab8a-8f63-4011-8648-3e1b11e31fe1"
      },
      "source": [
        "x = \"paraparaparadise\"\n",
        "y = \"paragraph\"\n",
        "\n",
        "X = make_ngram(x, 2)\n",
        "Y = make_ngram(y, 2)\n",
        "print(X, Y)\n",
        "X = set(X)\n",
        "Y = set(Y)\n",
        "print(X | Y)\n",
        "print(X & Y)\n",
        "print(X - Y)\n",
        "\n",
        "print(\"se\" in X)\n",
        "print(\"se\" in Y)"
      ],
      "execution_count": 29,
      "outputs": [
        {
          "output_type": "stream",
          "text": [
            "['pa', 'ar', 'ra', 'ap', 'pa', 'ar', 'ra', 'ap', 'pa', 'ar', 'ra', 'ad', 'di', 'is', 'se'] ['pa', 'ar', 'ra', 'ag', 'gr', 'ra', 'ap', 'ph']\n",
            "{'di', 'ph', 'ap', 'ad', 'ar', 'is', 'se', 'gr', 'ra', 'pa', 'ag'}\n",
            "{'ap', 'ra', 'ar', 'pa'}\n",
            "{'di', 'se', 'ad', 'is'}\n",
            "True\n",
            "False\n"
          ],
          "name": "stdout"
        }
      ]
    },
    {
      "cell_type": "code",
      "metadata": {
        "id": "-2m1T47Vg35l",
        "colab_type": "code",
        "colab": {
          "base_uri": "https://localhost:8080/",
          "height": 34
        },
        "outputId": "93c3da0e-0205-497c-9ca0-c6895d3a2fa5"
      },
      "source": [
        "def make_string(x, y, z):\n",
        "  #x時のyはz\n",
        "  return str(x) + \"時の\" + y + \"は\"+ str(z)\n",
        "\n",
        "#x=12, y=”気温”, z=22.4\n",
        "make_string(12, \"気温\", 22.4)"
      ],
      "execution_count": 33,
      "outputs": [
        {
          "output_type": "execute_result",
          "data": {
            "text/plain": [
              "'12時の気温は22.4'"
            ]
          },
          "metadata": {
            "tags": []
          },
          "execution_count": 33
        }
      ]
    },
    {
      "cell_type": "code",
      "metadata": {
        "id": "vcAmRneRq6Ua",
        "colab_type": "code",
        "colab": {
          "base_uri": "https://localhost:8080/",
          "height": 51
        },
        "outputId": "28e3cbfa-7ad9-48d3-d1f4-0f2c3e523e53"
      },
      "source": [
        "def cipher(s):\n",
        "  sentenceList = []\n",
        "  result = \"\"\n",
        "\n",
        "  for i in range(0, len(s)):\n",
        "    if s[i].islower():\n",
        "      sentenceList.insert(i, chr(219-ord(s[i])))\n",
        "    else:\n",
        "      sentenceList.insert(i, s[i])\n",
        "\n",
        "  for ii in range (0, len(s)):\n",
        "      result += sentenceList[ii]\n",
        "  return result\n",
        "\n",
        "#cipher(\"Hello World\")\n",
        "txt = cipher(\"I Am An Engineer\")\n",
        "print(txt)\n",
        "print(cipher(txt))"
      ],
      "execution_count": 48,
      "outputs": [
        {
          "output_type": "stream",
          "text": [
            "I An Am Emtrmvvi\n",
            "I Am An Engineer\n"
          ],
          "name": "stdout"
        }
      ]
    },
    {
      "cell_type": "code",
      "metadata": {
        "id": "td5-j5lwsUNa",
        "colab_type": "code",
        "colab": {
          "base_uri": "https://localhost:8080/",
          "height": 88
        },
        "outputId": "7dcb7210-5055-4c40-acd6-0b70cc4272cb"
      },
      "source": [
        "import random\n",
        "\n",
        "def shuffle(s):\n",
        "  if len(s) <= 4:\n",
        "    return s\n",
        "  else:\n",
        "    result = \"\"\n",
        "    random.seed(0)\n",
        "    l = list(range(len(s)))\n",
        "    l.pop(0)\n",
        "    print(l)\n",
        "    print(len(s))\n",
        "    l.pop(len(s) - 2)\n",
        "    random.shuffle(l)\n",
        "    result += s[0]\n",
        "    for i in range(len(s) - 2):\n",
        "      result += s[l[i]]\n",
        "    result += s[len(s) - 1]\n",
        "    return result\n",
        "\n",
        "shuffle(\"I couldn’t believe that I could actually understand what I was reading : the phenomenal power of the human mind .\")"
      ],
      "execution_count": 63,
      "outputs": [
        {
          "output_type": "stream",
          "text": [
            "[1, 2, 3, 4, 5, 6, 7, 8, 9, 10, 11, 12, 13, 14, 15, 16, 17, 18, 19, 20, 21, 22, 23, 24, 25, 26, 27, 28, 29, 30, 31, 32, 33, 34, 35, 36, 37, 38, 39, 40, 41, 42, 43, 44, 45, 46, 47, 48, 49, 50, 51, 52, 53, 54, 55, 56, 57, 58, 59, 60, 61, 62, 63, 64, 65, 66, 67, 68, 69, 70, 71, 72, 73, 74, 75, 76, 77, 78, 79, 80, 81, 82, 83, 84, 85, 86, 87, 88, 89, 90, 91, 92, 93, 94, 95, 96, 97, 98, 99, 100, 101, 102, 103, 104, 105, 106, 107, 108, 109, 110, 111, 112]\n",
            "113\n"
          ],
          "name": "stdout"
        },
        {
          "output_type": "execute_result",
          "data": {
            "text/plain": [
              "'Iut urt   chnInte doitl o eahlwb adpi tn  ahnawmnmlunoaeoelpeatvee mec’ iI :ou ea sd r thgcnlfl aues yhwrdtdahdn.'"
            ]
          },
          "metadata": {
            "tags": []
          },
          "execution_count": 63
        }
      ]
    },
    {
      "cell_type": "code",
      "metadata": {
        "id": "HamPPn7ZualN",
        "colab_type": "code",
        "colab": {}
      },
      "source": [
        ""
      ],
      "execution_count": 0,
      "outputs": []
    }
  ]
}